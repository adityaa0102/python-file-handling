{
 "cells": [
  {
   "cell_type": "markdown",
   "id": "14e79b93-a82a-438f-af25-f8d0538a593a",
   "metadata": {},
   "source": [
    "# Before you begin"
   ]
  },
  {
   "cell_type": "markdown",
   "id": "a82cf1ba-8e5a-4842-a8be-c56fd8b09101",
   "metadata": {},
   "source": [
    "1. The default mode in which a file is opened is the read mode (`r`).\n",
    "\n",
    "2. You can print characters using their 2-digit ASCII code (in hexadecimal system) using `\\x`. See example below:"
   ]
  },
  {
   "cell_type": "code",
   "execution_count": 1,
   "id": "2363bec9-e9a8-4c31-a517-15b7f4aa2a60",
   "metadata": {},
   "outputs": [
    {
     "name": "stdout",
     "output_type": "stream",
     "text": [
      "aUm patil\n"
     ]
    }
   ],
   "source": [
    "# Hex code for 'a' = 61\n",
    "# Hex code for 'U' = 55\n",
    "# Hex code for 'm' = 6d\n",
    "\n",
    "# Hex code for <space> = 20\n",
    "\n",
    "# Hex code for 'p' = 70\n",
    "# Hex code for 'a' = 61\n",
    "# Hex code for 't' = 74\n",
    "# Hex code for 'i' = 69\n",
    "# Hex code for 'l' = 6c\n",
    "\n",
    "print('\\x61\\x55\\x6d\\x20\\x70\\x61\\x74\\x69\\x6c')"
   ]
  },
  {
   "cell_type": "code",
   "execution_count": 2,
   "id": "76ca6aa1-a900-40a7-8374-db711c261cab",
   "metadata": {},
   "outputs": [
    {
     "name": "stdout",
     "output_type": "stream",
     "text": [
      "pam\n"
     ]
    }
   ],
   "source": [
    "# 0x61 means 'a'\n",
    "# 0x55 means 'u'\n",
    "# 0x6d means 'm'\n",
    "# 0x0d means <carriage return CR>\n",
    "# 0x70 means 'p'\n",
    "\n",
    "string1 = '\\x61\\x55\\x6d'\n",
    "string2 = '\\x0d\\x70\\x61'\n",
    "\n",
    "print(string1 + string2)"
   ]
  },
  {
   "cell_type": "markdown",
   "id": "6a97d5d7-2af0-4457-9ee1-22fe8d570d1b",
   "metadata": {},
   "source": [
    "Refer to [this](https://www.ascii-code.com/) chart for other special symbols."
   ]
  },
  {
   "cell_type": "markdown",
   "id": "398175f2-c959-4e12-8006-616f996bc68f",
   "metadata": {},
   "source": [
    "# Creating files"
   ]
  },
  {
   "cell_type": "code",
   "execution_count": 3,
   "id": "024e0776-4ca2-459d-824b-52f3798957ac",
   "metadata": {},
   "outputs": [
    {
     "data": {
      "text/plain": [
       "82"
      ]
     },
     "execution_count": 3,
     "metadata": {},
     "output_type": "execute_result"
    }
   ],
   "source": [
    "something = '''My name is Aum.\n",
    "I studied in DSCE Bangalore.\n",
    "I am a CS Engineer.\n",
    "I work at Google.'''\n",
    "\n",
    "open('./my_file.txt', 'w').write(something) # Opening a non-existent file in read mode."
   ]
  },
  {
   "cell_type": "markdown",
   "id": "8d9c3993-1b61-4048-b527-18c8b71cee81",
   "metadata": {},
   "source": [
    "👆🏻 Note that the file is closed as soon as the `open()` is executed because there is no reference to the file, i.e., there is no variable like `file` to which the `open()` method returns a file object.\n",
    "\n",
    "But if you did create a `file` variable which points to a file object, then you have to close it manually (you'll understand this when you learn about the `with` keyword below.)"
   ]
  },
  {
   "cell_type": "markdown",
   "id": "4729b674-cbb7-4dc5-9928-93c823c7da8a",
   "metadata": {},
   "source": [
    "# Reading files"
   ]
  },
  {
   "cell_type": "markdown",
   "id": "a1485a9f-a95a-4ac7-a398-fa473599c6bf",
   "metadata": {},
   "source": [
    "### As string (all at once)"
   ]
  },
  {
   "cell_type": "code",
   "execution_count": 4,
   "id": "ea7a7e40-9180-4c62-be37-4267d344a022",
   "metadata": {},
   "outputs": [
    {
     "name": "stdout",
     "output_type": "stream",
     "text": [
      "My name is Aum.\n",
      "I studied in DSCE Bangalore.\n",
      "I am a CS Engineer.\n",
      "I work at Google.\n"
     ]
    }
   ],
   "source": [
    "text = open('./my_file.txt').read()\n",
    "print(text)"
   ]
  },
  {
   "cell_type": "markdown",
   "id": "778f4c29-12ac-4d46-9687-43906d0b8305",
   "metadata": {},
   "source": [
    "### As string (line by line)\n",
    "\n",
    "When file is too large to fit into RAM, you gotta read it line by line."
   ]
  },
  {
   "cell_type": "code",
   "execution_count": 5,
   "id": "3afc288a-8fb1-48ed-9e4a-2ef40d83a0cf",
   "metadata": {},
   "outputs": [
    {
     "name": "stdout",
     "output_type": "stream",
     "text": [
      "My name is Aum.\n",
      "I studied in DSCE Bangalore.\n",
      "I am a CS Engineer.\n",
      "I work at Google.\n"
     ]
    }
   ],
   "source": [
    "with open('./my_file.txt') as file:\n",
    "    for line in file:\n",
    "        print(line.strip()) # `strip()` removes whitespace"
   ]
  },
  {
   "cell_type": "markdown",
   "id": "cb1bcf0e-1722-4cbd-b38a-cb3015b40e4f",
   "metadata": {},
   "source": [
    "### As string (line by line, but without `with`)"
   ]
  },
  {
   "cell_type": "code",
   "execution_count": 6,
   "id": "19f082a7-b5af-4405-b79f-a812320471ca",
   "metadata": {},
   "outputs": [
    {
     "name": "stdout",
     "output_type": "stream",
     "text": [
      "My name is Aum.\n",
      "I studied in DSCE Bangalore.\n",
      "I am a CS Engineer.\n",
      "I work at Google.\n"
     ]
    }
   ],
   "source": [
    "file = open('./my_file.txt')\n",
    "for line in file:\n",
    "    print(line.strip())\n",
    "file.close() # If you don't use `with`, you have to close the file manually."
   ]
  },
  {
   "cell_type": "markdown",
   "id": "4c1e15d3-09ae-4e08-bd6c-2d17a9033da0",
   "metadata": {},
   "source": [
    "The file gets closed automatically when the `with` block ends.\n",
    "\n",
    "***NOTE:***\n",
    "\n",
    "The writes made to the file are not saved until the file is closed. (very important)\n",
    "\n",
    "Hence, it is advised to always use `with`."
   ]
  },
  {
   "cell_type": "markdown",
   "id": "f493be6b-83e8-48ad-a6d2-8e29de063054",
   "metadata": {},
   "source": [
    "# Practice exercise"
   ]
  },
  {
   "cell_type": "code",
   "execution_count": 7,
   "id": "a8faa05c-0f3a-4579-9c0b-f9ed0fbf7ffd",
   "metadata": {},
   "outputs": [
    {
     "data": {
      "text/plain": [
       "406"
      ]
     },
     "execution_count": 7,
     "metadata": {},
     "output_type": "execute_result"
    }
   ],
   "source": [
    "# Create a dummy input file:\n",
    "\n",
    "something = '''A blue Pythonista, green behind the ears, went to Pythonia.\n",
    "She wanted to visit the famous wise green Python snake.\n",
    "She wanted to ask her about the white way to avoid the black.\n",
    "The bright path to program in a yellow, green, or blue style.\n",
    "The green Python turned red, when she addressed her.\n",
    "The Pythonista turned yellow in turn.\n",
    "After a long but not endless loop, the wise Python uttered: \n",
    "\"The rainbow!\"'''\n",
    "\n",
    "open('./input_file.txt', 'w').write(something)"
   ]
  },
  {
   "cell_type": "markdown",
   "id": "a229dd1a-a438-4023-9cea-872f4fb3cb7d",
   "metadata": {},
   "source": [
    "Reading each line of the input file, modifying it, and writing the modified line to the output file:"
   ]
  },
  {
   "cell_type": "code",
   "execution_count": 8,
   "id": "15a2ed02-31dd-4b83-b538-997f0fe4e66e",
   "metadata": {},
   "outputs": [],
   "source": [
    "with open('./input_file.txt') as infile:\n",
    "    with open('./output_file.txt', 'w') as outfile:\n",
    "        for line in infile:\n",
    "            line = line.replace('Pythonista', 'NEWBIE')\n",
    "            line = line.replace('Python snake', 'GURU')\n",
    "            outfile.write(line)"
   ]
  },
  {
   "cell_type": "markdown",
   "id": "843aac81-c1ba-443b-98b1-9672e71b362c",
   "metadata": {},
   "source": [
    "If `input_file.txt` was not a very large file, you don't need to read line-by-line:"
   ]
  },
  {
   "cell_type": "code",
   "execution_count": 9,
   "id": "55215460-dae9-4d6b-8890-22bdf7c06e76",
   "metadata": {},
   "outputs": [
    {
     "data": {
      "text/plain": [
       "386"
      ]
     },
     "execution_count": 9,
     "metadata": {},
     "output_type": "execute_result"
    }
   ],
   "source": [
    "text = open('./input_file.txt').read()\n",
    "text = text.replace('Pythonista', 'NOOB')\n",
    "text = text.replace('Python snake', 'PROO')\n",
    "open('./output_file.txt', 'w').write(text)"
   ]
  },
  {
   "cell_type": "markdown",
   "id": "c7c9d99a-6072-4e3f-b8c8-2d3219f9babb",
   "metadata": {},
   "source": [
    "👆🏻 We did not need to use `close()` because there is no reference to any opened files (i.e., there is nothing like `file`). Hence, the files are closed as soon as the `open()` statements are executed."
   ]
  },
  {
   "cell_type": "markdown",
   "id": "3767042d-2515-4358-9b2a-655f2cef1b23",
   "metadata": {},
   "source": [
    "# Seeking and telling (`seek` and `tell`)"
   ]
  },
  {
   "cell_type": "markdown",
   "id": "d35d7d5f-a442-42c1-9174-e301d3c9fcb4",
   "metadata": {},
   "source": [
    "`seek`: for putting the cursor at some index\n",
    "\n",
    "`tell`: for knowing the current position of the cursor"
   ]
  },
  {
   "cell_type": "code",
   "execution_count": 10,
   "id": "0f48971f-055f-4e2c-86eb-1bc45a07cb6e",
   "metadata": {},
   "outputs": [
    {
     "data": {
      "text/plain": [
       "29"
      ]
     },
     "execution_count": 10,
     "metadata": {},
     "output_type": "execute_result"
    }
   ],
   "source": [
    "open('./bullshit.txt', 'w').write('Brown is her favourite color.')"
   ]
  },
  {
   "cell_type": "code",
   "execution_count": 11,
   "id": "a4d5656a-84e4-43ef-9781-e75a2c7f9093",
   "metadata": {},
   "outputs": [
    {
     "data": {
      "text/plain": [
       "0"
      ]
     },
     "execution_count": 11,
     "metadata": {},
     "output_type": "execute_result"
    }
   ],
   "source": [
    "file = open('./bullshit.txt')\n",
    "file.tell() # Remember, zero indexing."
   ]
  },
  {
   "cell_type": "code",
   "execution_count": 12,
   "id": "7820fcb7-e3fd-4908-9be8-db74f5b878b5",
   "metadata": {},
   "outputs": [
    {
     "data": {
      "text/plain": [
       "'Brown'"
      ]
     },
     "execution_count": 12,
     "metadata": {},
     "output_type": "execute_result"
    }
   ],
   "source": [
    "file.read(5) # Ask the cursor to read the next 5 characters"
   ]
  },
  {
   "cell_type": "code",
   "execution_count": 13,
   "id": "5b7204f0-4f2b-4307-95b0-2e3c3dbe8fde",
   "metadata": {},
   "outputs": [
    {
     "data": {
      "text/plain": [
       "5"
      ]
     },
     "execution_count": 13,
     "metadata": {},
     "output_type": "execute_result"
    }
   ],
   "source": [
    "file.tell()"
   ]
  },
  {
   "cell_type": "code",
   "execution_count": 14,
   "id": "e3e3614b-e756-4873-8074-0d6d6d1d8d75",
   "metadata": {},
   "outputs": [
    {
     "data": {
      "text/plain": [
       "' is her favourite color.'"
      ]
     },
     "execution_count": 14,
     "metadata": {},
     "output_type": "execute_result"
    }
   ],
   "source": [
    "file.read() # Using `read()` without params will read the rest of the text."
   ]
  },
  {
   "cell_type": "code",
   "execution_count": 15,
   "id": "c84ed521-8fb7-4ca6-b3aa-809e07f27811",
   "metadata": {},
   "outputs": [
    {
     "data": {
      "text/plain": [
       "29"
      ]
     },
     "execution_count": 15,
     "metadata": {},
     "output_type": "execute_result"
    }
   ],
   "source": [
    "file.tell() # Cursor is on the last index."
   ]
  },
  {
   "cell_type": "markdown",
   "id": "10d66fc8-8244-4aaf-883e-b939be16a91b",
   "metadata": {},
   "source": [
    "The simplest way of using `seek()` is `seek(index)`\n",
    "\n",
    "where `index` is the index (*from the beginning of the file*) where you want to bring the cursor to."
   ]
  },
  {
   "cell_type": "code",
   "execution_count": 16,
   "id": "f811e994-46c3-40cf-8a7a-3c3b485ff662",
   "metadata": {},
   "outputs": [
    {
     "data": {
      "text/plain": [
       "5"
      ]
     },
     "execution_count": 16,
     "metadata": {},
     "output_type": "execute_result"
    }
   ],
   "source": [
    "file.seek(5)"
   ]
  },
  {
   "cell_type": "code",
   "execution_count": 17,
   "id": "1796a960-bd06-4f7b-9ea0-198aa3558f18",
   "metadata": {},
   "outputs": [
    {
     "data": {
      "text/plain": [
       "5"
      ]
     },
     "execution_count": 17,
     "metadata": {},
     "output_type": "execute_result"
    }
   ],
   "source": [
    "file.tell()"
   ]
  },
  {
   "cell_type": "code",
   "execution_count": 18,
   "id": "46733167-df38-4ec5-9c0e-9a6f8b8cfeb4",
   "metadata": {},
   "outputs": [
    {
     "data": {
      "text/plain": [
       "13"
      ]
     },
     "execution_count": 18,
     "metadata": {},
     "output_type": "execute_result"
    }
   ],
   "source": [
    "# Moving the cursor w.r.t. current position:\n",
    "\n",
    "offset = 8\n",
    "file.seek(file.tell() + 8) # move the cursor 8 bytes ahead of current position.\n",
    "file.tell()"
   ]
  },
  {
   "cell_type": "code",
   "execution_count": 19,
   "id": "bf058ed4-16e0-48a9-a4b6-d272cc9037dd",
   "metadata": {},
   "outputs": [
    {
     "data": {
      "text/plain": [
       "'favourite'"
      ]
     },
     "execution_count": 19,
     "metadata": {},
     "output_type": "execute_result"
    }
   ],
   "source": [
    "file.read(9)"
   ]
  },
  {
   "cell_type": "code",
   "execution_count": 20,
   "id": "4005fb4d-0d80-429e-a5d3-b9d6ade31eb3",
   "metadata": {},
   "outputs": [
    {
     "data": {
      "text/plain": [
       "22"
      ]
     },
     "execution_count": 20,
     "metadata": {},
     "output_type": "execute_result"
    }
   ],
   "source": [
    "file.tell()"
   ]
  },
  {
   "cell_type": "code",
   "execution_count": 21,
   "id": "37c744d4-1f55-435a-9793-e24147419363",
   "metadata": {},
   "outputs": [],
   "source": [
    "file.close()"
   ]
  },
  {
   "cell_type": "markdown",
   "id": "09d16d93-029d-40e8-92a3-2fa9d16bf797",
   "metadata": {},
   "source": [
    "# Appending to a file"
   ]
  },
  {
   "cell_type": "markdown",
   "id": "9ea039d8-59f1-44dd-bb71-582c97cdfef6",
   "metadata": {},
   "source": [
    "This is straightforward: open the file in append mode and use the `write()` method:"
   ]
  },
  {
   "cell_type": "code",
   "execution_count": 22,
   "id": "d6f0c505-1ba7-4e0b-94b8-738ac5596573",
   "metadata": {},
   "outputs": [
    {
     "data": {
      "text/plain": [
       "18"
      ]
     },
     "execution_count": 22,
     "metadata": {},
     "output_type": "execute_result"
    }
   ],
   "source": [
    "# Create a dummy file:\n",
    "\n",
    "text = '''Apple\n",
    "Mango\n",
    "Banana'''\n",
    "open('./fruits.txt', 'w').write(text)"
   ]
  },
  {
   "cell_type": "code",
   "execution_count": 23,
   "id": "ec8692df-8df8-4b45-8b8a-f4e9e3a874ec",
   "metadata": {},
   "outputs": [
    {
     "name": "stdout",
     "output_type": "stream",
     "text": [
      "Apple\n",
      "Mango\n",
      "Banana\n"
     ]
    }
   ],
   "source": [
    "# This is the file:\n",
    "\n",
    "print(open('./fruits.txt', 'r').read())"
   ]
  },
  {
   "cell_type": "code",
   "execution_count": 24,
   "id": "ded63124-0806-4fe8-89be-ba982642efae",
   "metadata": {},
   "outputs": [
    {
     "name": "stdout",
     "output_type": "stream",
     "text": [
      "Apple\n",
      "Mango\n",
      "Banana\n",
      "(+) Watermelon\n",
      "(+) Grapes\n",
      "(+) Dragonfruit\n"
     ]
    }
   ],
   "source": [
    "# Add some more fruits:\n",
    "\n",
    "with open('./fruits.txt', 'a') as file:\n",
    "    file.write('\\n(+) Watermelon')\n",
    "    file.write('\\n(+) Grapes')\n",
    "    file.write('\\n(+) Dragonfruit')\n",
    "\n",
    "with open('./fruits.txt', 'r') as file:\n",
    "    file_content = file.read()\n",
    "    print(file_content)"
   ]
  },
  {
   "cell_type": "markdown",
   "id": "3f5bdbc3-8e0c-47da-91f7-3115631868df",
   "metadata": {},
   "source": [
    "# Some nitty gritties"
   ]
  },
  {
   "cell_type": "markdown",
   "id": "bb814c29-fdc3-4855-b329-d192edf5b722",
   "metadata": {},
   "source": [
    "Using `write()` in write mode will remove **everything** that's currently there in the file, and then write the new data to the file:"
   ]
  },
  {
   "cell_type": "code",
   "execution_count": 25,
   "id": "ce468e2d-5475-47ab-9d81-7bd41a78161b",
   "metadata": {},
   "outputs": [
    {
     "name": "stdout",
     "output_type": "stream",
     "text": [
      "Before writing:\n",
      "--------------\n",
      "Apple\n",
      "Mango\n",
      "Banana\n",
      "(+) Watermelon\n",
      "(+) Grapes\n",
      "(+) Dragonfruit\n"
     ]
    }
   ],
   "source": [
    "with open('./fruits.txt', 'r') as file:\n",
    "    content = file.read()\n",
    "    print('Before writing:\\n--------------')\n",
    "    print(content)"
   ]
  },
  {
   "cell_type": "code",
   "execution_count": 26,
   "id": "438a7eab-335d-40b5-8b2e-504e3848388c",
   "metadata": {},
   "outputs": [],
   "source": [
    "with open('./fruits.txt', 'w') as file:\n",
    "    # At this point, all old content of `fruits.txt` is erased.\n",
    "    file.seek(7)\n",
    "    file.write('RandomBsGo')"
   ]
  },
  {
   "cell_type": "code",
   "execution_count": 27,
   "id": "db11def4-9110-4cb3-858a-a33d4876ce8a",
   "metadata": {},
   "outputs": [
    {
     "name": "stdout",
     "output_type": "stream",
     "text": [
      "After writing:\n",
      "--------------\n",
      "\u0000\u0000\u0000\u0000\u0000\u0000\u0000RandomBsGo\n"
     ]
    }
   ],
   "source": [
    "with open('./fruits.txt', 'r') as file:\n",
    "    content = file.read()\n",
    "    print('After writing:\\n--------------')\n",
    "    print(content)"
   ]
  },
  {
   "cell_type": "markdown",
   "id": "2380aaad-13a9-40e7-addc-e20adf8538f7",
   "metadata": {},
   "source": [
    "Let's restore our fruits file back to normal:"
   ]
  },
  {
   "cell_type": "code",
   "execution_count": 28,
   "id": "60d6ef6c-82f7-41bc-9258-7961d80d5672",
   "metadata": {},
   "outputs": [],
   "source": [
    "content = '''Apple\n",
    "Banana\n",
    "Mango'''\n",
    "\n",
    "with open('./fruits.txt', 'w') as file:\n",
    "    file.write(content)"
   ]
  },
  {
   "cell_type": "markdown",
   "id": "d595de49-d552-43ff-9af2-c51128a17b75",
   "metadata": {},
   "source": [
    "### `read()` sends the cursor to last index:"
   ]
  },
  {
   "cell_type": "code",
   "execution_count": 29,
   "id": "2a846465-0dfe-498e-a2a7-9f05cb928d05",
   "metadata": {},
   "outputs": [],
   "source": [
    "with open('./input_file.txt', 'r') as file:\n",
    "    content1 = file.read()\n",
    "    # At this point, the imaginary cursor is at the end of the file.\n",
    "    content2 = file.read()"
   ]
  },
  {
   "cell_type": "code",
   "execution_count": 30,
   "id": "af48d392-fabb-4104-9a61-00ee4ae3ed4c",
   "metadata": {},
   "outputs": [
    {
     "data": {
      "text/plain": [
       "'A blue Pythonista, green behind the ears, went to Pythonia.\\nShe wanted to visit the famous wise green Python snake.\\nShe wanted to ask her about the white way to avoid the black.\\nThe bright path to program in a yellow, green, or blue style.\\nThe green Python turned red, when she addressed her.\\nThe Pythonista turned yellow in turn.\\nAfter a long but not endless loop, the wise Python uttered: \\n\"The rainbow!\"'"
      ]
     },
     "execution_count": 30,
     "metadata": {},
     "output_type": "execute_result"
    }
   ],
   "source": [
    "content1"
   ]
  },
  {
   "cell_type": "code",
   "execution_count": 31,
   "id": "bcf9d03b-626c-4a4f-be4a-e087a19b7afb",
   "metadata": {},
   "outputs": [
    {
     "data": {
      "text/plain": [
       "''"
      ]
     },
     "execution_count": 31,
     "metadata": {},
     "output_type": "execute_result"
    }
   ],
   "source": [
    "content2"
   ]
  },
  {
   "cell_type": "markdown",
   "id": "92b86611-91f8-42ef-a915-a6554ed56a35",
   "metadata": {},
   "source": [
    "👆🏻 This problem can be solved using `seek()`:"
   ]
  },
  {
   "cell_type": "code",
   "execution_count": 32,
   "id": "73e59f78-17d7-41d2-90e1-ad8dad171c16",
   "metadata": {},
   "outputs": [],
   "source": [
    "with open('./input_file.txt', 'r') as file:\n",
    "    content1 = file.read()\n",
    "    # At this point, the imaginary cursor is at the end of the file.\n",
    "    file.seek(0)\n",
    "    content2 = file.read()"
   ]
  },
  {
   "cell_type": "code",
   "execution_count": 33,
   "id": "2ecbf2f2-4128-4e0e-98d3-972c83c2c4e4",
   "metadata": {},
   "outputs": [
    {
     "data": {
      "text/plain": [
       "'A blue Pythonista, green behind the ears, went to Pythonia.\\nShe wanted to visit the famous wise green Python snake.\\nShe wanted to ask her about the white way to avoid the black.\\nThe bright path to program in a yellow, green, or blue style.\\nThe green Python turned red, when she addressed her.\\nThe Pythonista turned yellow in turn.\\nAfter a long but not endless loop, the wise Python uttered: \\n\"The rainbow!\"'"
      ]
     },
     "execution_count": 33,
     "metadata": {},
     "output_type": "execute_result"
    }
   ],
   "source": [
    "content1"
   ]
  },
  {
   "cell_type": "code",
   "execution_count": 34,
   "id": "721d1e95-bf0d-4f3b-a918-2f8667351ec1",
   "metadata": {},
   "outputs": [
    {
     "data": {
      "text/plain": [
       "'A blue Pythonista, green behind the ears, went to Pythonia.\\nShe wanted to visit the famous wise green Python snake.\\nShe wanted to ask her about the white way to avoid the black.\\nThe bright path to program in a yellow, green, or blue style.\\nThe green Python turned red, when she addressed her.\\nThe Pythonista turned yellow in turn.\\nAfter a long but not endless loop, the wise Python uttered: \\n\"The rainbow!\"'"
      ]
     },
     "execution_count": 34,
     "metadata": {},
     "output_type": "execute_result"
    }
   ],
   "source": [
    "content2"
   ]
  },
  {
   "cell_type": "markdown",
   "id": "38881df3-845b-4d9d-bec3-fb523d7fbb68",
   "metadata": {},
   "source": [
    "### Reading lines (`readline()` and `readlines()`)"
   ]
  },
  {
   "cell_type": "code",
   "execution_count": 35,
   "id": "d4518d3a-7ba2-40f0-9789-c1b82baec609",
   "metadata": {},
   "outputs": [
    {
     "name": "stdout",
     "output_type": "stream",
     "text": [
      "A blue Pythonista, green behind the ears, went to Pythonia.\n",
      "She wanted to visit the famous wise green Python snake.\n",
      "The green Python turned red, when she addressed her.\n"
     ]
    }
   ],
   "source": [
    "# Reading line by line:\n",
    "\n",
    "with open('./input_file.txt', 'r') as file:\n",
    "    line1 = file.readline().strip()\n",
    "    line2 = file.readline().strip()\n",
    "    file.readline()\n",
    "    file.readline()\n",
    "    line5 = file.readline().strip()\n",
    "\n",
    "for line in [line1, line2, line5]:\n",
    "    print(line)"
   ]
  },
  {
   "cell_type": "markdown",
   "id": "0768a984-8c8c-4907-9b2d-ad01642d5a78",
   "metadata": {},
   "source": [
    "👆🏻 Cursor automatically goes to the next line each time the `readline()` method is called."
   ]
  },
  {
   "cell_type": "code",
   "execution_count": 36,
   "id": "7e520739-c230-402d-b0dc-11c55dd98ac2",
   "metadata": {},
   "outputs": [
    {
     "name": "stdout",
     "output_type": "stream",
     "text": [
      "['A blue Pythonista, green behind the ears, went to Pythonia.\\n', 'She wanted to visit the famous wise green Python snake.\\n', 'She wanted to ask her about the white way to avoid the black.\\n', 'The bright path to program in a yellow, green, or blue style.\\n', 'The green Python turned red, when she addressed her.\\n', 'The Pythonista turned yellow in turn.\\n', 'After a long but not endless loop, the wise Python uttered: \\n', '\"The rainbow!\"']\n",
      "\n",
      "<class 'list'>\n",
      "\n"
     ]
    },
    {
     "data": {
      "text/plain": [
       "'The bright path to program in a yellow, green, or blue style.\\n'"
      ]
     },
     "execution_count": 36,
     "metadata": {},
     "output_type": "execute_result"
    }
   ],
   "source": [
    "# Reading all lines into a list:\n",
    "\n",
    "with open('./input_file.txt', 'r') as file:\n",
    "    lines = file.readlines()\n",
    "\n",
    "print(lines)\n",
    "print()\n",
    "print(type(lines))\n",
    "print()\n",
    "lines[3]"
   ]
  },
  {
   "cell_type": "markdown",
   "id": "d785fa3b-e8a4-4825-b4df-828edb6c480d",
   "metadata": {},
   "source": [
    "# A list of all modes:"
   ]
  },
  {
   "cell_type": "markdown",
   "id": "fd11174d-c669-4e1d-870f-2171a9c8d54d",
   "metadata": {},
   "source": [
    "|Normal|Extra|Binary|\n",
    "|-|-|-|\n",
    "|r|r+|rb|\n",
    "|w|w+|wb|\n",
    "|a|a+|ab|\n",
    "\n",
    "`r` = read\n",
    "\n",
    "`w` = write\n",
    "\n",
    "`a` = append\n",
    "\n",
    "`rb`= read binary\n",
    "\n",
    "`wb` = write binary\n",
    "\n",
    "`ab` = append binary\n",
    "\n",
    "`r+` = read and write\n",
    "\n",
    "`w+` = write and read\n",
    "\n",
    "`a+` = append and read\n",
    "\n",
    "💡💡💡 PRO TIP: Don't dive too deep in the + modes, they're confusing.\n",
    "\n",
    "⚠⚠⚠ Whatever I discuss below might be incorrect."
   ]
  },
  {
   "cell_type": "markdown",
   "id": "ae181460-4236-4901-bf41-4afa797e7374",
   "metadata": {},
   "source": [
    "### Read and write mode (`r+`)"
   ]
  },
  {
   "cell_type": "markdown",
   "id": "d05a52c9-474a-4124-88e1-23cf5638768f",
   "metadata": {},
   "source": [
    "If you want to overwrite text at a specific position, open the file in read+write mode (i.e., `r+`) and make use of the `seek()` method, followed by the `write()` method.\n",
    "\n",
    "This is how you can replace `Banana` with `Pineapple`:"
   ]
  },
  {
   "cell_type": "code",
   "execution_count": 37,
   "id": "5541e721-a936-4769-bb22-3076627cea0c",
   "metadata": {},
   "outputs": [],
   "source": [
    "with open('./fruits.txt', 'r+') as file:\n",
    "    file.seek(6)\n",
    "    file.write('PineappleSS')"
   ]
  },
  {
   "cell_type": "code",
   "execution_count": 38,
   "id": "667c054a-bab0-4b4d-a4c8-0b11d51b14a6",
   "metadata": {},
   "outputs": [
    {
     "name": "stdout",
     "output_type": "stream",
     "text": [
      "Apple\n",
      "PineappleSSngo\n"
     ]
    }
   ],
   "source": [
    "with open('./fruits.txt', 'r') as file:\n",
    "    content = file.read()\n",
    "    print(content)"
   ]
  },
  {
   "cell_type": "markdown",
   "id": "d1d57c04-c747-4f86-ace5-ced55705968f",
   "metadata": {},
   "source": [
    "👆🏻 Notice how it \"eats up\" the text that comes in its way. Be alert."
   ]
  },
  {
   "cell_type": "markdown",
   "id": "784872fc-aee1-4d84-a61e-3ccb4bcbbb66",
   "metadata": {},
   "source": [
    "### Append and read mode (`a+`)\n",
    "\n",
    "Has the functionality of read/seek as well as to append to file.\n",
    "\n",
    "NOTE: \"append\" always means \"to add at the end of the file\""
   ]
  }
 ],
 "metadata": {
  "kernelspec": {
   "display_name": "Python 3 (ipykernel)",
   "language": "python",
   "name": "python3"
  },
  "language_info": {
   "codemirror_mode": {
    "name": "ipython",
    "version": 3
   },
   "file_extension": ".py",
   "mimetype": "text/x-python",
   "name": "python",
   "nbconvert_exporter": "python",
   "pygments_lexer": "ipython3",
   "version": "3.9.18"
  }
 },
 "nbformat": 4,
 "nbformat_minor": 5
}
